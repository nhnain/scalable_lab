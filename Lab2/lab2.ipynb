{
 "cells": [
  {
   "cell_type": "markdown",
   "metadata": {
    "id": "1UGPiKI-Pk-G"
   },
   "source": [
    "## Exercise 1\n",
    "\n",
    "Using regular expressions, extract all names from the dataset `yob2012.txt` (including the number of newborns registered in 2012 with their names and sex), which start with letters A to C. How many names did you find?"
   ]
  },
  {
   "cell_type": "code",
   "execution_count": 9,
   "metadata": {},
   "outputs": [
    {
     "name": "stdout",
     "output_type": "stream",
     "text": [
      "Number of names starting with A-C: 7606\n"
     ]
    }
   ],
   "source": [
    "import re\n",
    "pattern = re.compile(r'[ABC][a-zA-Z]*,[MF],\\d+', re.MULTILINE)\n",
    "with open('yob2012.txt', 'r') as file:\n",
    "    data = file.read()\n",
    "matches = re.findall(pattern, data)\n",
    "print(f\"Number of names starting with A-C: {len(matches)}\")"
   ]
  },
  {
   "cell_type": "markdown",
   "metadata": {
    "id": "NAqW9q_Cypqe"
   },
   "source": [
    "## Exercise 2\n",
    "\n",
    "1. Write a generator function that generates prime numbers infinitely.\n",
    "2. Write a generator function that generates a sequence of powers of a given base up to a given exponent. Then pipelining with generator double function which double the sequence from previous generator."
   ]
  },
  {
   "cell_type": "code",
   "execution_count": 16,
   "metadata": {},
   "outputs": [
    {
     "name": "stdout",
     "output_type": "stream",
     "text": [
      "2\n",
      "3\n",
      "5\n",
      "7\n",
      "11\n",
      "13\n",
      "17\n",
      "19\n",
      "23\n",
      "29\n",
      "31\n",
      "37\n",
      "41\n",
      "43\n",
      "47\n",
      "53\n",
      "59\n",
      "61\n",
      "67\n",
      "71\n",
      "73\n",
      "79\n",
      "83\n",
      "89\n",
      "97\n"
     ]
    }
   ],
   "source": [
    "#1\n",
    "def prime():\n",
    "    num = 2\n",
    "    while True:\n",
    "        for i in range(2, num):\n",
    "            if num % i == 0:\n",
    "                break\n",
    "        else:\n",
    "            yield num\n",
    "        num += 1\n",
    "for i in prime():\n",
    "    if i < 100:\n",
    "        print(i)\n",
    "    else:\n",
    "        break"
   ]
  },
  {
   "cell_type": "code",
   "execution_count": 20,
   "metadata": {},
   "outputs": [
    {
     "name": "stdout",
     "output_type": "stream",
     "text": [
      "1\n",
      "4\n",
      "16\n",
      "64\n",
      "256\n",
      "1024\n"
     ]
    }
   ],
   "source": [
    "def power(base, exp):\n",
    "    for i in range(exp+1):\n",
    "        yield base ** i\n",
    "def double(sequence):\n",
    "    for item in sequence:\n",
    "        yield item ** 2\n",
    "for i in double(power(2, 5)):\n",
    "    print(i)\n"
   ]
  },
  {
   "cell_type": "markdown",
   "metadata": {
    "id": "tp1Oda6kRboV"
   },
   "source": [
    "## Exercise 3\n",
    "\n",
    "Given a data `uoe_tweets_07022019`, let do the following tasks:\n",
    "1. Remove the `screen_name` and `created_at` columns.\n",
    "2. It would be interesting to see how frequently the university has made posts. Can you group all posts according to their date of publication and then create a plot through time of how many posts have been made each day. </br>\n",
    "You can use the `DataFrame.groupby()` method to find occurrences. Don't forget to label the axis of your plot. </br>\n",
    "You can transfrom a `DataFrame.groupby()` object back into a DataFrame by using its `.count()` method\n",
    "3. We would like to identify the 10 most favourited posts. This can easily be done using the [`nlargest`](https://pandas.pydata.org/pandas-docs/version/0.17.0/generated/pandas.DataFrame.nlargest.html) method and then simply indexing into the original dataframe. </br>\n",
    "Find the 10 most popular posts, print them and see what they are about. </br>\n",
    "You might want to use the `.iloc` method to index into the original data"
   ]
  },
  {
   "cell_type": "code",
   "execution_count": null,
   "metadata": {
    "id": "k7qBBluMtz9g"
   },
   "outputs": [
    {
     "data": {
      "text/html": [
       "<div>\n",
       "<style scoped>\n",
       "    .dataframe tbody tr th:only-of-type {\n",
       "        vertical-align: middle;\n",
       "    }\n",
       "\n",
       "    .dataframe tbody tr th {\n",
       "        vertical-align: top;\n",
       "    }\n",
       "\n",
       "    .dataframe thead th {\n",
       "        text-align: right;\n",
       "    }\n",
       "</style>\n",
       "<table border=\"1\" class=\"dataframe\">\n",
       "  <thead>\n",
       "    <tr style=\"text-align: right;\">\n",
       "      <th></th>\n",
       "      <th>retweet_count</th>\n",
       "      <th>favorite_count</th>\n",
       "    </tr>\n",
       "  </thead>\n",
       "  <tbody>\n",
       "    <tr>\n",
       "      <th>0</th>\n",
       "      <td>1</td>\n",
       "      <td>0</td>\n",
       "    </tr>\n",
       "    <tr>\n",
       "      <th>1</th>\n",
       "      <td>18</td>\n",
       "      <td>30</td>\n",
       "    </tr>\n",
       "    <tr>\n",
       "      <th>2</th>\n",
       "      <td>13</td>\n",
       "      <td>38</td>\n",
       "    </tr>\n",
       "    <tr>\n",
       "      <th>3</th>\n",
       "      <td>3</td>\n",
       "      <td>4</td>\n",
       "    </tr>\n",
       "    <tr>\n",
       "      <th>4</th>\n",
       "      <td>10</td>\n",
       "      <td>19</td>\n",
       "    </tr>\n",
       "    <tr>\n",
       "      <th>...</th>\n",
       "      <td>...</td>\n",
       "      <td>...</td>\n",
       "    </tr>\n",
       "    <tr>\n",
       "      <th>3208</th>\n",
       "      <td>9</td>\n",
       "      <td>4</td>\n",
       "    </tr>\n",
       "    <tr>\n",
       "      <th>3209</th>\n",
       "      <td>3</td>\n",
       "      <td>0</td>\n",
       "    </tr>\n",
       "    <tr>\n",
       "      <th>3210</th>\n",
       "      <td>2</td>\n",
       "      <td>1</td>\n",
       "    </tr>\n",
       "    <tr>\n",
       "      <th>3211</th>\n",
       "      <td>8</td>\n",
       "      <td>5</td>\n",
       "    </tr>\n",
       "    <tr>\n",
       "      <th>3212</th>\n",
       "      <td>3</td>\n",
       "      <td>1</td>\n",
       "    </tr>\n",
       "  </tbody>\n",
       "</table>\n",
       "<p>3213 rows × 2 columns</p>\n",
       "</div>"
      ],
      "text/plain": [
       "      retweet_count  favorite_count\n",
       "0                 1               0\n",
       "1                18              30\n",
       "2                13              38\n",
       "3                 3               4\n",
       "4                10              19\n",
       "...             ...             ...\n",
       "3208              9               4\n",
       "3209              3               0\n",
       "3210              2               1\n",
       "3211              8               5\n",
       "3212              3               1\n",
       "\n",
       "[3213 rows x 2 columns]"
      ]
     },
     "execution_count": 35,
     "metadata": {},
     "output_type": "execute_result"
    }
   ],
   "source": [
    "#1\n",
    "import pandas as pd\n",
    "import numpy as np\n",
    "import matplotlib.pyplot as plt\n",
    "df = pd.read_csv('uoe_tweets_07022019.csv')\n",
    "df.drop(columns=[df.columns[0]], inplace=True)\n",
    "df.drop(columns=[df.columns[0],\"screen_name\", \"created_at\"])"
   ]
  },
  {
   "cell_type": "code",
   "execution_count": null,
   "metadata": {},
   "outputs": [
    {
     "data": {
      "image/png": "[encoded data removed]",
      "text/plain": [
       "<Figure size 1000x600 with 1 Axes>"
      ]
     },
     "metadata": {},
     "output_type": "display_data"
    }
   ],
   "source": [
    "#2\n",
    "df[\"created_at\"] = pd.to_datetime(df[\"created_at\"])\n",
    "frequency = df.groupby('created_at').size().reset_index(name='counts')\n",
    "\n",
    "plt.figure(figsize=(10, 6))\n",
    "plt.plot(frequency['created_at'], frequency['counts'], marker='o')\n",
    "plt.xlabel('Date')\n",
    "plt.ylabel('Number of Posts')\n",
    "plt.title('Number of Posts per Day')\n",
    "plt.xticks(rotation=45)\n",
    "plt.grid(True)\n",
    "plt.show()"
   ]
  },
  {
   "cell_type": "code",
   "execution_count": null,
   "metadata": {},
   "outputs": [
    {
     "name": "stdout",
     "output_type": "stream",
     "text": [
      "              created_at  counts\n",
      "913  2016-06-02 16:08:00       3\n",
      "107  2014-10-20 14:12:13       2\n",
      "1949 2017-09-26 13:30:02       2\n",
      "2142 2017-12-07 16:00:21       2\n",
      "3016 2018-11-05 15:18:36       2\n",
      "0    2014-08-20 13:03:11       1\n",
      "1    2014-08-20 14:18:03       1\n",
      "2    2014-08-22 13:39:00       1\n",
      "3    2014-08-23 18:55:05       1\n",
      "4    2014-08-24 17:50:15       1\n"
     ]
    }
   ],
   "source": [
    "#3\n",
    "print(frequency.nlargest(10, 'counts'))\n",
    "#print(df.iloc[frequency.nlargest(10, 'counts').index])"
   ]
  }
 ],
 "metadata": {
  "colab": {
   "provenance": []
  },
  "kernelspec": {
   "display_name": "Python 3",
   "name": "python3"
  },
  "language_info": {
   "codemirror_mode": {
    "name": "ipython",
    "version": 3
   },
   "file_extension": ".py",
   "mimetype": "text/x-python",
   "name": "python",
   "nbconvert_exporter": "python",
   "pygments_lexer": "ipython3",
   "version": "3.11.9"
  }
 },
 "nbformat": 4,
 "nbformat_minor": 0
}
