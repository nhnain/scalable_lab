{
 "cells": [
  {
   "cell_type": "markdown",
   "metadata": {
    "id": "NNiUan1EoX3p"
   },
   "source": [
    "1) Create an iterator that takes in a list and when iterated over, it returns the information in a reverse order.\n",
    "\n",
    "Hint: When accepting arguments into an iterator, you need to use the init method, as well as iter and next. The call below should result in `5, 4, 3, 2, 1`."
   ]
  },
  {
   "cell_type": "code",
   "execution_count": null,
   "metadata": {
    "id": "-6cp8DwaoXXF"
   },
   "outputs": [
    {
     "name": "stdout",
     "output_type": "stream",
     "text": [
      "[5, 4, 6, 2, 1]\n"
     ]
    }
   ],
   "source": [
    "# define a list\n",
    "my_list = [1, 2, 6, 4, 5]\n",
    "\n",
    "def reverse_list(list):\n",
    "    return print(list[::-1])\n",
    "reverse_list(my_list)"
   ]
  },
  {
   "cell_type": "markdown",
   "metadata": {
    "id": "BVQ72glfoutf"
   },
   "source": [
    "2) Create a generator that acts like the range function, except it yields a squared number every time. The result of the call below should be `0, 1, 4, 16`."
   ]
  },
  {
   "cell_type": "code",
   "execution_count": 13,
   "metadata": {
    "id": "owVC8_w3ou6G"
   },
   "outputs": [
    {
     "name": "stdout",
     "output_type": "stream",
     "text": [
      "0\n",
      "1\n",
      "4\n",
      "9\n",
      "16\n"
     ]
    }
   ],
   "source": [
    "def square_range(n):\n",
    "    for i in range(n):\n",
    "        yield i ** 2\n",
    "for num in square_range(5):\n",
    "    print(num)"
   ]
  },
  {
   "cell_type": "markdown",
   "metadata": {
    "id": "WCEoyR5arJoQ"
   },
   "source": [
    "3) Develop a function to compute the finonacci series based on `generator`."
   ]
  },
  {
   "cell_type": "code",
   "execution_count": 8,
   "metadata": {
    "id": "HmLc2GfnrJ-z"
   },
   "outputs": [
    {
     "name": "stdout",
     "output_type": "stream",
     "text": [
      "0\n",
      "1\n",
      "1\n",
      "2\n",
      "3\n"
     ]
    }
   ],
   "source": [
    "def fibonacci(n):\n",
    "    a, b = 0, 1\n",
    "    for _ in range(n):\n",
    "        yield a\n",
    "        a, b = b, a + b\n",
    "for num in fibonacci(5):\n",
    "    print(num)"
   ]
  },
  {
   "cell_type": "markdown",
   "metadata": {
    "id": "xcWeSZiBtLqQ"
   },
   "source": [
    "4) Define a class with a generator which can iterate the numbers, which are divisible by 7, between a given range 0 and n."
   ]
  },
  {
   "cell_type": "code",
   "execution_count": 11,
   "metadata": {},
   "outputs": [
    {
     "name": "stdout",
     "output_type": "stream",
     "text": [
      "0\n",
      "7\n",
      "14\n",
      "21\n",
      "28\n",
      "35\n",
      "42\n",
      "49\n"
     ]
    }
   ],
   "source": [
    "def devidedby7(n):\n",
    "    a = 0\n",
    "    for i in range(n):\n",
    "        if a <= n:\n",
    "            yield a\n",
    "            a += 7\n",
    "        else:\n",
    "            return\n",
    "for num in devidedby7(50):\n",
    "    print(num)"
   ]
  },
  {
   "cell_type": "markdown",
   "metadata": {
    "id": "FP-BaKVRth4D"
   },
   "source": [
    "5) Define a class named `American` and its subclass `NewYorker`.\n",
    "\n",
    "Hints:\n",
    "\n",
    "Use class `Subclass(ParentClass)` to define a subclass.\n"
   ]
  },
  {
   "cell_type": "code",
   "execution_count": 12,
   "metadata": {
    "id": "2TJTrB99tiRV"
   },
   "outputs": [],
   "source": [
    "class Animal:\n",
    "    def __init__(self, name):\n",
    "        self.name = name\n",
    "    def make_sound(self):\n",
    "        return \"animal sound\"\n",
    "    def __str__(self):\n",
    "        return f\"{self.name} is an animal\"\n",
    "class Cat(Animal):\n",
    "    def __init__(self, name):\n",
    "        super().__init__(name)\n",
    "    def make_sound(self):\n",
    "        return \"meow\"\n",
    "    def __str__(self):\n",
    "        return f\"{self.name} is a cat\""
   ]
  },
  {
   "cell_type": "markdown",
   "metadata": {
    "id": "Wd7B_CeVt01b"
   },
   "source": [
    "6) Define a class named `Circle` which can be constructed by a radius. The `Circle` class has a method which can compute the area."
   ]
  },
  {
   "cell_type": "code",
   "execution_count": null,
   "metadata": {
    "id": "iQaFglGpt1Au"
   },
   "outputs": [],
   "source": [
    "class Circle:\n",
    "    def __init__(self, radius):\n",
    "        self.radius = radius\n",
    "    def area(self):\n",
    "        return 3.14 * (self.radius ** 2)"
   ]
  },
  {
   "cell_type": "markdown",
   "metadata": {
    "id": "c9MY9pyKuELX"
   },
   "source": [
    "7) Define a class named `Rectangle` which can be constructed by a `length` and `width`. The `Rectangle` class has a method which can compute the area."
   ]
  },
  {
   "cell_type": "code",
   "execution_count": null,
   "metadata": {
    "id": "36Hyr-tguEba"
   },
   "outputs": [],
   "source": [
    "class Rectangle:\n",
    "    def __init__(self, length, width):\n",
    "        self.length = length\n",
    "        self.width = width\n",
    "    def area(self):\n",
    "        return length * width"
   ]
  },
  {
   "cell_type": "markdown",
   "metadata": {
    "id": "5NAboKzEudPA"
   },
   "source": [
    "8) Define a class Person and its two child classes: `Male` and `Female`. All classes have a method `getGender` which can print `Male` for `Male` class and `Female` for `Female` class."
   ]
  },
  {
   "cell_type": "code",
   "execution_count": null,
   "metadata": {
    "id": "nppOgy02udbI"
   },
   "outputs": [],
   "source": [
    "class Person:\n",
    "    def __init__(self, name, id):\n",
    "        self.name = name\n",
    "        self.id = id\n",
    "    def getGender(self):\n",
    "        return \"unknown\"\n",
    "class Female(Person):\n",
    "    def __init__(self, name, id):\n",
    "        super().__init__(name, id)\n",
    "    def getGender(self):\n",
    "        return \"Female\"\n",
    "class Male(Person):\n",
    "    def __init__(self, name, id):\n",
    "        super().__init__(name, id)\n",
    "    def getGender(self):\n",
    "        return \"Male\""
   ]
  }
 ],
 "metadata": {
  "colab": {
   "provenance": []
  },
  "kernelspec": {
   "display_name": "Python 3",
   "name": "python3"
  },
  "language_info": {
   "codemirror_mode": {
    "name": "ipython",
    "version": 3
   },
   "file_extension": ".py",
   "mimetype": "text/x-python",
   "name": "python",
   "nbconvert_exporter": "python",
   "pygments_lexer": "ipython3",
   "version": "3.11.9"
  }
 },
 "nbformat": 4,
 "nbformat_minor": 0
}
